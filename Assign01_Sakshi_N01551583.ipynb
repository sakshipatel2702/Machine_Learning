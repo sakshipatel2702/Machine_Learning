{
  "cells": [
    {
      "cell_type": "markdown",
      "metadata": {
        "id": "view-in-github",
        "colab_type": "text"
      },
      "source": [
        "<a href=\"https://colab.research.google.com/github/sakshipatel2702/Machine_Learning/blob/main/Assign01_Sakshi_N01551583.ipynb\" target=\"_parent\"><img src=\"https://colab.research.google.com/assets/colab-badge.svg\" alt=\"Open In Colab\"/></a>"
      ]
    },
    {
      "cell_type": "markdown",
      "id": "517286d9",
      "metadata": {
        "id": "517286d9"
      },
      "source": [
        "# Assignment 01 ( Submission Deadline : 22nd Jan 2023 )"
      ]
    },
    {
      "cell_type": "markdown",
      "id": "c743eb86",
      "metadata": {
        "id": "c743eb86"
      },
      "source": [
        "## There are four questions in this Assignment. Run the code and explain what each cell of code is doing. You can add more cells when needed. Write your name and ID. Double click on the student name and ID to write your name and ID."
      ]
    },
    {
      "cell_type": "markdown",
      "id": "836bca43",
      "metadata": {
        "id": "836bca43"
      },
      "source": [
        "# Student Name : Sakshi Rushi Patel"
      ]
    },
    {
      "cell_type": "markdown",
      "id": "a257a711",
      "metadata": {
        "id": "a257a711"
      },
      "source": [
        "# Student ID : N01551583"
      ]
    },
    {
      "cell_type": "code",
      "execution_count": null,
      "id": "7bebf0fe",
      "metadata": {
        "id": "7bebf0fe"
      },
      "outputs": [],
      "source": []
    },
    {
      "cell_type": "code",
      "source": [],
      "metadata": {
        "id": "6jvaQnQFYK8O"
      },
      "id": "6jvaQnQFYK8O",
      "execution_count": null,
      "outputs": []
    },
    {
      "cell_type": "markdown",
      "source": [],
      "metadata": {
        "id": "r7bKvdf8bWWP"
      },
      "id": "r7bKvdf8bWWP"
    },
    {
      "cell_type": "code",
      "execution_count": null,
      "id": "e49aecc9",
      "metadata": {
        "id": "e49aecc9"
      },
      "outputs": [],
      "source": [
        "import pandas as pd\n",
        "import numpy as np"
      ]
    },
    {
      "cell_type": "markdown",
      "source": [
        "**ANSWER:**\n",
        "To basically import pandas an open source package into your Python env., \n",
        "use the **`import pandas as pd`** syntax.\n",
        "\n",
        "And **`import numpy as np`** helps us to import NumPy package in your Python enviornment. This package is typically used for all scientific computations."
      ],
      "metadata": {
        "id": "f5X7owKEZ5Ej"
      },
      "id": "f5X7owKEZ5Ej"
    },
    {
      "cell_type": "markdown",
      "id": "20baad43",
      "metadata": {
        "id": "20baad43"
      },
      "source": [
        "# Q # 1 \n",
        "\n",
        "# Run the program and explain what each step of program is doing ?\n",
        "            "
      ]
    },
    {
      "cell_type": "code",
      "execution_count": null,
      "id": "228ebec2",
      "metadata": {
        "colab": {
          "base_uri": "https://localhost:8080/"
        },
        "id": "228ebec2",
        "outputId": "1861db95-a06a-4a0c-bebc-4a16d79c90bf"
      },
      "outputs": [
        {
          "output_type": "stream",
          "name": "stdout",
          "text": [
            "5 5 5 5 5  \n",
            "4 4 4 4  \n",
            "3 3 3  \n",
            "2 2  \n",
            "1  \n"
          ]
        }
      ],
      "source": [
        "n = 5\n",
        "k = 0\n",
        "for i in range(n):\n",
        "    for j in range(n-k):\n",
        "        print(n-k, end = \" \")\n",
        "    print(' ')\n",
        "    k = k + 1\n",
        "    "
      ]
    },
    {
      "cell_type": "markdown",
      "source": [
        "**ANSWER:**\n",
        "\n",
        "1.   **`n = 5`** : It allots value 5 to the variable n. \n",
        "\n",
        "2.  **` k = 0`** : It allots value 0 to the variable k. \n",
        "\n",
        "3. **`for i in range(n):`** : In this line we have made a for loop using range function where range(stop) i.e range(n) and since n has value 5 the loop will stop at 0,1,2,3,4 i.e it stops at -1 from the value of stop in the range function. Thus if we `print(i)`we will get 0,1,2,3,4 and if we print(n) it will print 5,5,5,5,5.\n",
        "\n",
        "4. **`for j in range(n-k):`** This is another for loop in which j is assigned value using range function where range(n-k) i.e range(5-0) so it will perform subtraction and the answer will be range(5). Hence it will run for 0,1,2,3,4 for the first time when value of k is 0.\n",
        "\n",
        "5. **`print(n-k, end = \" \")`** : This particular code is in the second for loop so it will when the value of k is 0 and the range is 5 in first loop then it will print 5 5 5 5 5 then when it goes to `k=k+1` it updates the value of k from 0 to 1 so then for the second time it will print 4 4 4 4 then again it will update the value of k from 1 to 2 and will print 3 3 3 and then again update the value of k from 2 to 3 and will print 2 2 and again updated value of k from 3 to 4 and which will be 5-4 and finally print 1.\n",
        "Output: \n",
        "5 5 5 5 5\n",
        "4 4 4 4\n",
        "3 3 3\n",
        "2 2\n",
        "1\n",
        "\n",
        "6. **`print(' ')`** : This will print on a new line \n",
        "\n",
        "7. **`k = k + 1`** : And this will update the value of k in the first for loop every time it runs as mentioned in the 5th point.\n",
        "\n"
      ],
      "metadata": {
        "id": "EF4l9wYBgGuY"
      },
      "id": "EF4l9wYBgGuY"
    },
    {
      "cell_type": "code",
      "execution_count": null,
      "id": "56de563c",
      "metadata": {
        "id": "56de563c"
      },
      "outputs": [],
      "source": []
    },
    {
      "cell_type": "code",
      "execution_count": null,
      "id": "3c72e5ea",
      "metadata": {
        "id": "3c72e5ea"
      },
      "outputs": [],
      "source": []
    },
    {
      "cell_type": "markdown",
      "id": "c5a56e30",
      "metadata": {
        "id": "c5a56e30"
      },
      "source": [
        "# Q # 2 \n",
        "\n",
        "#  Explain what each coding cell id generating ?\n",
        "\n",
        "\n"
      ]
    },
    {
      "cell_type": "code",
      "execution_count": null,
      "id": "b56f5e82",
      "metadata": {
        "id": "b56f5e82"
      },
      "outputs": [],
      "source": [
        "numbers = [1, 2, 3, 4, 5, 6, 7, 8, 9]\n",
        "even = []\n",
        "odd = []\n",
        "\n",
        "\n"
      ]
    },
    {
      "cell_type": "markdown",
      "source": [
        "**`ANSWER: `**\n",
        "\n",
        "\n",
        "1.   `numbers = [1, 2, 3, 4, 5, 6, 7, 8, 9]` : It will assign array containing the numbers: [1,2,3,4,5,6,7,8,9] to variable numbers.\n",
        "\n",
        "2.   `even = []` : We are assigning an empty array to variable named even.\n",
        "\n",
        "3. `odd = []` : We are assigning an empty array to variable named odd.\n",
        "\n"
      ],
      "metadata": {
        "id": "uItfoNrFxN9Z"
      },
      "id": "uItfoNrFxN9Z"
    },
    {
      "cell_type": "code",
      "execution_count": null,
      "id": "956005b5",
      "metadata": {
        "id": "956005b5"
      },
      "outputs": [],
      "source": [
        "for num in numbers:\n",
        "    if num % 2 == 0:\n",
        "        even.append(num)\n",
        "    else:\n",
        "        odd.append(num)\n"
      ]
    },
    {
      "cell_type": "markdown",
      "source": [
        "**ANSWER:**\n",
        "\n",
        "\n",
        "1.   `for num in numbers:` : We have created a for loop in which variable **num** will be assigned values present in **numbers** array.\n",
        "\n",
        "2.  ` if num % 2 == 0:` : Then we have used **if..else loop** inside the **for loop** in which we are checking here if the value of num is divided by 2 and the remainder is equals to 0.\n",
        "\n",
        "3. `even.append(num)` : Then if the **if statement is true** we will add that value in **num** variable to the variable **even** by using the **append function** which will be the array of even numbers from the array numbers.\n",
        "\n",
        "4. `else:` : If the **if statement is false** then it will go to the else loop.\n",
        "\n",
        "5. `odd.append(num)` : So after it goes **inside the else loop** the value inside the variable **num** will get added using the **append function to the odd array** which has all the values whoes remainder was not 0 when it was divided by 2.\n",
        "\n"
      ],
      "metadata": {
        "id": "dMw4Wtkey91O"
      },
      "id": "dMw4Wtkey91O"
    },
    {
      "cell_type": "code",
      "execution_count": null,
      "id": "07c62718",
      "metadata": {
        "id": "07c62718",
        "colab": {
          "base_uri": "https://localhost:8080/"
        },
        "outputId": "a426fe3e-336b-4d21-9472-e99dc1c3c2fb"
      },
      "outputs": [
        {
          "output_type": "stream",
          "name": "stdout",
          "text": [
            "Numbers of even numbers : 4\n",
            "Numbers of odd numbers : 5\n"
          ]
        }
      ],
      "source": [
        "print(\"Numbers of even numbers : {}\".format(len(even)))\n",
        "print(\"Numbers of odd numbers : {}\".format(len(odd)))"
      ]
    },
    {
      "cell_type": "markdown",
      "source": [
        "**ANSWER:** \n",
        "\n",
        "\n",
        "1.   `print(\"Numbers of even numbers : {}\".format(len(even)))` : This statement will print the total length of an array in even variable. In this case the length of the variable even is 4.\n",
        "\n",
        "2.   `print(\"Numbers of odd numbers : {}\".format(len(odd)))` : This statement will print the total length of an array in odd variable. In this case the length of the variable odd is 5.\n",
        "\n"
      ],
      "metadata": {
        "id": "hdkOXP0D3nn3"
      },
      "id": "hdkOXP0D3nn3"
    },
    {
      "cell_type": "markdown",
      "id": "7c155f43",
      "metadata": {
        "id": "7c155f43"
      },
      "source": [
        "# Q # 3\n",
        "\n",
        "# Explain what each step of code is doing."
      ]
    },
    {
      "cell_type": "code",
      "execution_count": null,
      "id": "151a31d0",
      "metadata": {
        "id": "151a31d0",
        "colab": {
          "base_uri": "https://localhost:8080/"
        },
        "outputId": "fe04aea0-bcb3-4849-fa11-dedcafbd075b"
      },
      "outputs": [
        {
          "output_type": "stream",
          "name": "stdout",
          "text": [
            "2\n",
            "3\n",
            "5\n",
            "7\n",
            "11\n",
            "13\n",
            "17\n",
            "19\n",
            "23\n",
            "29\n",
            "31\n",
            "37\n",
            "41\n",
            "43\n",
            "47\n",
            "53\n",
            "59\n",
            "61\n",
            "67\n",
            "71\n",
            "73\n",
            "79\n",
            "83\n",
            "89\n",
            "97\n"
          ]
        }
      ],
      "source": [
        "for x in range(2,100):\n",
        "   a = 0 \n",
        "   for y in range(2,100): \n",
        "        \n",
        "        if (x % y) == 0.0:\n",
        "         a = a + 1\n",
        "   if a == 1:\n",
        "     print(x)"
      ]
    },
    {
      "cell_type": "markdown",
      "source": [
        "**ANSWER:**\n",
        "\n",
        "\n",
        "1.  ` for x in range(2,100):` : We are running a for loop here in which variable **x will have the values from 2 to 99** as we have mentioned range(start,stop) i.e range(2,100) so the loop will start from 2 to 99 as it always stops at -1.\n",
        "  \n",
        "2.   `a = 0 ` : Here we have assigned value 0 to variable a.\n",
        "\n",
        "3.   `for y in range(2,100): ` : We have created another **for loop** inside the first for loop here we are assigning variable y will values from 2 to 99 as we have range(2,100).\n",
        "\n",
        "4.   `if (x % y) == 0.0:` : Inside the for loop we have an **if statement** and it will check the condition **if we get 0.0 in remainder if we divide value in x variable to value to y variable**. If the condition is true it will go inside the loop and perform tasks.\n",
        "\n",
        "5. `a = a + 1` : If we get remainder 0 when dividing x to y then it will **increament the value of a by 1** as we have a = a + 1.\n",
        "\n",
        "6. `if a == 1:` We have used another if loop here and here we will check the condition if the value of **variable a is equal to 1** and if its true it will run the command in that if loop.\n",
        "\n",
        "7. `print(x)` : And if the if loop statement returns true then we will **print the value stored in x variable**.\n",
        "     \n",
        " \n",
        "\n"
      ],
      "metadata": {
        "id": "zmBlaUurBXZ7"
      },
      "id": "zmBlaUurBXZ7"
    },
    {
      "cell_type": "markdown",
      "id": "6f3b2f54",
      "metadata": {
        "id": "6f3b2f54"
      },
      "source": [
        "# Q # 4\n",
        "\n",
        "# By running a code below, you will get the df. Remove the rows of df containg \"NaN\" or \" ? \" ."
      ]
    },
    {
      "cell_type": "code",
      "execution_count": null,
      "id": "b74a88d1",
      "metadata": {
        "id": "b74a88d1",
        "colab": {
          "base_uri": "https://localhost:8080/",
          "height": 394
        },
        "outputId": "893c1bca-103f-47b2-d079-cd2669fc2c51"
      },
      "outputs": [
        {
          "output_type": "execute_result",
          "data": {
            "text/plain": [
              "       name region    sales  expenses lossValues\n",
              "0   William   East  50000.0   42000.0      12000\n",
              "1      Emma    NaN  52000.0   43000.0          ?\n",
              "2     Sofia   East  90000.0       NaN          ?\n",
              "3    Markus  South      NaN   44000.0        NaN\n",
              "4    Edward   West  42000.0   38000.0      11000\n",
              "5    Thomas   West  72000.0   39000.0      33000\n",
              "6     Ethan  South  49000.0   42000.0      44000\n",
              "7    Olivia   West      NaN       NaN      10000\n",
              "8      Arun   West  67000.0   39000.0      22000\n",
              "9     Anika   East  65000.0   44000.0      30000\n",
              "10    Paulo  South  67000.0   45000.0      99000"
            ],
            "text/html": [
              "\n",
              "  <div id=\"df-349e643f-4d09-4b8f-aebb-e60bb82ebd88\">\n",
              "    <div class=\"colab-df-container\">\n",
              "      <div>\n",
              "<style scoped>\n",
              "    .dataframe tbody tr th:only-of-type {\n",
              "        vertical-align: middle;\n",
              "    }\n",
              "\n",
              "    .dataframe tbody tr th {\n",
              "        vertical-align: top;\n",
              "    }\n",
              "\n",
              "    .dataframe thead th {\n",
              "        text-align: right;\n",
              "    }\n",
              "</style>\n",
              "<table border=\"1\" class=\"dataframe\">\n",
              "  <thead>\n",
              "    <tr style=\"text-align: right;\">\n",
              "      <th></th>\n",
              "      <th>name</th>\n",
              "      <th>region</th>\n",
              "      <th>sales</th>\n",
              "      <th>expenses</th>\n",
              "      <th>lossValues</th>\n",
              "    </tr>\n",
              "  </thead>\n",
              "  <tbody>\n",
              "    <tr>\n",
              "      <th>0</th>\n",
              "      <td>William</td>\n",
              "      <td>East</td>\n",
              "      <td>50000.0</td>\n",
              "      <td>42000.0</td>\n",
              "      <td>12000</td>\n",
              "    </tr>\n",
              "    <tr>\n",
              "      <th>1</th>\n",
              "      <td>Emma</td>\n",
              "      <td>NaN</td>\n",
              "      <td>52000.0</td>\n",
              "      <td>43000.0</td>\n",
              "      <td>?</td>\n",
              "    </tr>\n",
              "    <tr>\n",
              "      <th>2</th>\n",
              "      <td>Sofia</td>\n",
              "      <td>East</td>\n",
              "      <td>90000.0</td>\n",
              "      <td>NaN</td>\n",
              "      <td>?</td>\n",
              "    </tr>\n",
              "    <tr>\n",
              "      <th>3</th>\n",
              "      <td>Markus</td>\n",
              "      <td>South</td>\n",
              "      <td>NaN</td>\n",
              "      <td>44000.0</td>\n",
              "      <td>NaN</td>\n",
              "    </tr>\n",
              "    <tr>\n",
              "      <th>4</th>\n",
              "      <td>Edward</td>\n",
              "      <td>West</td>\n",
              "      <td>42000.0</td>\n",
              "      <td>38000.0</td>\n",
              "      <td>11000</td>\n",
              "    </tr>\n",
              "    <tr>\n",
              "      <th>5</th>\n",
              "      <td>Thomas</td>\n",
              "      <td>West</td>\n",
              "      <td>72000.0</td>\n",
              "      <td>39000.0</td>\n",
              "      <td>33000</td>\n",
              "    </tr>\n",
              "    <tr>\n",
              "      <th>6</th>\n",
              "      <td>Ethan</td>\n",
              "      <td>South</td>\n",
              "      <td>49000.0</td>\n",
              "      <td>42000.0</td>\n",
              "      <td>44000</td>\n",
              "    </tr>\n",
              "    <tr>\n",
              "      <th>7</th>\n",
              "      <td>Olivia</td>\n",
              "      <td>West</td>\n",
              "      <td>NaN</td>\n",
              "      <td>NaN</td>\n",
              "      <td>10000</td>\n",
              "    </tr>\n",
              "    <tr>\n",
              "      <th>8</th>\n",
              "      <td>Arun</td>\n",
              "      <td>West</td>\n",
              "      <td>67000.0</td>\n",
              "      <td>39000.0</td>\n",
              "      <td>22000</td>\n",
              "    </tr>\n",
              "    <tr>\n",
              "      <th>9</th>\n",
              "      <td>Anika</td>\n",
              "      <td>East</td>\n",
              "      <td>65000.0</td>\n",
              "      <td>44000.0</td>\n",
              "      <td>30000</td>\n",
              "    </tr>\n",
              "    <tr>\n",
              "      <th>10</th>\n",
              "      <td>Paulo</td>\n",
              "      <td>South</td>\n",
              "      <td>67000.0</td>\n",
              "      <td>45000.0</td>\n",
              "      <td>99000</td>\n",
              "    </tr>\n",
              "  </tbody>\n",
              "</table>\n",
              "</div>\n",
              "      <button class=\"colab-df-convert\" onclick=\"convertToInteractive('df-349e643f-4d09-4b8f-aebb-e60bb82ebd88')\"\n",
              "              title=\"Convert this dataframe to an interactive table.\"\n",
              "              style=\"display:none;\">\n",
              "        \n",
              "  <svg xmlns=\"http://www.w3.org/2000/svg\" height=\"24px\"viewBox=\"0 0 24 24\"\n",
              "       width=\"24px\">\n",
              "    <path d=\"M0 0h24v24H0V0z\" fill=\"none\"/>\n",
              "    <path d=\"M18.56 5.44l.94 2.06.94-2.06 2.06-.94-2.06-.94-.94-2.06-.94 2.06-2.06.94zm-11 1L8.5 8.5l.94-2.06 2.06-.94-2.06-.94L8.5 2.5l-.94 2.06-2.06.94zm10 10l.94 2.06.94-2.06 2.06-.94-2.06-.94-.94-2.06-.94 2.06-2.06.94z\"/><path d=\"M17.41 7.96l-1.37-1.37c-.4-.4-.92-.59-1.43-.59-.52 0-1.04.2-1.43.59L10.3 9.45l-7.72 7.72c-.78.78-.78 2.05 0 2.83L4 21.41c.39.39.9.59 1.41.59.51 0 1.02-.2 1.41-.59l7.78-7.78 2.81-2.81c.8-.78.8-2.07 0-2.86zM5.41 20L4 18.59l7.72-7.72 1.47 1.35L5.41 20z\"/>\n",
              "  </svg>\n",
              "      </button>\n",
              "      \n",
              "  <style>\n",
              "    .colab-df-container {\n",
              "      display:flex;\n",
              "      flex-wrap:wrap;\n",
              "      gap: 12px;\n",
              "    }\n",
              "\n",
              "    .colab-df-convert {\n",
              "      background-color: #E8F0FE;\n",
              "      border: none;\n",
              "      border-radius: 50%;\n",
              "      cursor: pointer;\n",
              "      display: none;\n",
              "      fill: #1967D2;\n",
              "      height: 32px;\n",
              "      padding: 0 0 0 0;\n",
              "      width: 32px;\n",
              "    }\n",
              "\n",
              "    .colab-df-convert:hover {\n",
              "      background-color: #E2EBFA;\n",
              "      box-shadow: 0px 1px 2px rgba(60, 64, 67, 0.3), 0px 1px 3px 1px rgba(60, 64, 67, 0.15);\n",
              "      fill: #174EA6;\n",
              "    }\n",
              "\n",
              "    [theme=dark] .colab-df-convert {\n",
              "      background-color: #3B4455;\n",
              "      fill: #D2E3FC;\n",
              "    }\n",
              "\n",
              "    [theme=dark] .colab-df-convert:hover {\n",
              "      background-color: #434B5C;\n",
              "      box-shadow: 0px 1px 3px 1px rgba(0, 0, 0, 0.15);\n",
              "      filter: drop-shadow(0px 1px 2px rgba(0, 0, 0, 0.3));\n",
              "      fill: #FFFFFF;\n",
              "    }\n",
              "  </style>\n",
              "\n",
              "      <script>\n",
              "        const buttonEl =\n",
              "          document.querySelector('#df-349e643f-4d09-4b8f-aebb-e60bb82ebd88 button.colab-df-convert');\n",
              "        buttonEl.style.display =\n",
              "          google.colab.kernel.accessAllowed ? 'block' : 'none';\n",
              "\n",
              "        async function convertToInteractive(key) {\n",
              "          const element = document.querySelector('#df-349e643f-4d09-4b8f-aebb-e60bb82ebd88');\n",
              "          const dataTable =\n",
              "            await google.colab.kernel.invokeFunction('convertToInteractive',\n",
              "                                                     [key], {});\n",
              "          if (!dataTable) return;\n",
              "\n",
              "          const docLinkHtml = 'Like what you see? Visit the ' +\n",
              "            '<a target=\"_blank\" href=https://colab.research.google.com/notebooks/data_table.ipynb>data table notebook</a>'\n",
              "            + ' to learn more about interactive tables.';\n",
              "          element.innerHTML = '';\n",
              "          dataTable['output_type'] = 'display_data';\n",
              "          await google.colab.output.renderOutput(dataTable, element);\n",
              "          const docLink = document.createElement('div');\n",
              "          docLink.innerHTML = docLinkHtml;\n",
              "          element.appendChild(docLink);\n",
              "        }\n",
              "      </script>\n",
              "    </div>\n",
              "  </div>\n",
              "  "
            ]
          },
          "metadata": {},
          "execution_count": 21
        }
      ],
      "source": [
        "df = pd.DataFrame({\"name\":[\"William\",\"Emma\",\"Sofia\",\"Markus\",\"Edward\",\"Thomas\",\"Ethan\",\"Olivia\",\"Arun\",\"Anika\",\"Paulo\"]\n",
        ",\"region\":[\"East\",np.nan,\"East\",\"South\",\"West\",\"West\",\"South\",\"West\",\"West\",\"East\",\"South\"]\n",
        ",\"sales\":[50000,52000,90000,np.nan,42000,72000,49000,np.nan,67000,65000,67000]\n",
        ",\"expenses\":[42000,43000,np.nan,44000,38000,39000,42000,np.nan,39000,44000,45000]\n",
        ",\"lossValues\":[12000,'?','?',np.nan,11000,33000,44000,10000,22000,30000,99000]})\n",
        "\n",
        "df"
      ]
    },
    {
      "cell_type": "markdown",
      "source": [
        "**ANSWER:**\n",
        "This will create a df and print it with the \"NaN\" or \"?\" values"
      ],
      "metadata": {
        "id": "SfS8SoatOpA7"
      },
      "id": "SfS8SoatOpA7"
    },
    {
      "cell_type": "code",
      "execution_count": null,
      "id": "5d8b87be",
      "metadata": {
        "id": "5d8b87be",
        "colab": {
          "base_uri": "https://localhost:8080/",
          "height": 269
        },
        "outputId": "ac17b20a-839d-4cb6-e53c-8db459db2c7b"
      },
      "outputs": [
        {
          "output_type": "execute_result",
          "data": {
            "text/plain": [
              "       name region    sales  expenses lossValues\n",
              "0   William   East  50000.0   42000.0      12000\n",
              "4    Edward   West  42000.0   38000.0      11000\n",
              "5    Thomas   West  72000.0   39000.0      33000\n",
              "6     Ethan  South  49000.0   42000.0      44000\n",
              "8      Arun   West  67000.0   39000.0      22000\n",
              "9     Anika   East  65000.0   44000.0      30000\n",
              "10    Paulo  South  67000.0   45000.0      99000"
            ],
            "text/html": [
              "\n",
              "  <div id=\"df-f57eb97c-3830-4c48-a493-9e118d214fec\">\n",
              "    <div class=\"colab-df-container\">\n",
              "      <div>\n",
              "<style scoped>\n",
              "    .dataframe tbody tr th:only-of-type {\n",
              "        vertical-align: middle;\n",
              "    }\n",
              "\n",
              "    .dataframe tbody tr th {\n",
              "        vertical-align: top;\n",
              "    }\n",
              "\n",
              "    .dataframe thead th {\n",
              "        text-align: right;\n",
              "    }\n",
              "</style>\n",
              "<table border=\"1\" class=\"dataframe\">\n",
              "  <thead>\n",
              "    <tr style=\"text-align: right;\">\n",
              "      <th></th>\n",
              "      <th>name</th>\n",
              "      <th>region</th>\n",
              "      <th>sales</th>\n",
              "      <th>expenses</th>\n",
              "      <th>lossValues</th>\n",
              "    </tr>\n",
              "  </thead>\n",
              "  <tbody>\n",
              "    <tr>\n",
              "      <th>0</th>\n",
              "      <td>William</td>\n",
              "      <td>East</td>\n",
              "      <td>50000.0</td>\n",
              "      <td>42000.0</td>\n",
              "      <td>12000</td>\n",
              "    </tr>\n",
              "    <tr>\n",
              "      <th>4</th>\n",
              "      <td>Edward</td>\n",
              "      <td>West</td>\n",
              "      <td>42000.0</td>\n",
              "      <td>38000.0</td>\n",
              "      <td>11000</td>\n",
              "    </tr>\n",
              "    <tr>\n",
              "      <th>5</th>\n",
              "      <td>Thomas</td>\n",
              "      <td>West</td>\n",
              "      <td>72000.0</td>\n",
              "      <td>39000.0</td>\n",
              "      <td>33000</td>\n",
              "    </tr>\n",
              "    <tr>\n",
              "      <th>6</th>\n",
              "      <td>Ethan</td>\n",
              "      <td>South</td>\n",
              "      <td>49000.0</td>\n",
              "      <td>42000.0</td>\n",
              "      <td>44000</td>\n",
              "    </tr>\n",
              "    <tr>\n",
              "      <th>8</th>\n",
              "      <td>Arun</td>\n",
              "      <td>West</td>\n",
              "      <td>67000.0</td>\n",
              "      <td>39000.0</td>\n",
              "      <td>22000</td>\n",
              "    </tr>\n",
              "    <tr>\n",
              "      <th>9</th>\n",
              "      <td>Anika</td>\n",
              "      <td>East</td>\n",
              "      <td>65000.0</td>\n",
              "      <td>44000.0</td>\n",
              "      <td>30000</td>\n",
              "    </tr>\n",
              "    <tr>\n",
              "      <th>10</th>\n",
              "      <td>Paulo</td>\n",
              "      <td>South</td>\n",
              "      <td>67000.0</td>\n",
              "      <td>45000.0</td>\n",
              "      <td>99000</td>\n",
              "    </tr>\n",
              "  </tbody>\n",
              "</table>\n",
              "</div>\n",
              "      <button class=\"colab-df-convert\" onclick=\"convertToInteractive('df-f57eb97c-3830-4c48-a493-9e118d214fec')\"\n",
              "              title=\"Convert this dataframe to an interactive table.\"\n",
              "              style=\"display:none;\">\n",
              "        \n",
              "  <svg xmlns=\"http://www.w3.org/2000/svg\" height=\"24px\"viewBox=\"0 0 24 24\"\n",
              "       width=\"24px\">\n",
              "    <path d=\"M0 0h24v24H0V0z\" fill=\"none\"/>\n",
              "    <path d=\"M18.56 5.44l.94 2.06.94-2.06 2.06-.94-2.06-.94-.94-2.06-.94 2.06-2.06.94zm-11 1L8.5 8.5l.94-2.06 2.06-.94-2.06-.94L8.5 2.5l-.94 2.06-2.06.94zm10 10l.94 2.06.94-2.06 2.06-.94-2.06-.94-.94-2.06-.94 2.06-2.06.94z\"/><path d=\"M17.41 7.96l-1.37-1.37c-.4-.4-.92-.59-1.43-.59-.52 0-1.04.2-1.43.59L10.3 9.45l-7.72 7.72c-.78.78-.78 2.05 0 2.83L4 21.41c.39.39.9.59 1.41.59.51 0 1.02-.2 1.41-.59l7.78-7.78 2.81-2.81c.8-.78.8-2.07 0-2.86zM5.41 20L4 18.59l7.72-7.72 1.47 1.35L5.41 20z\"/>\n",
              "  </svg>\n",
              "      </button>\n",
              "      \n",
              "  <style>\n",
              "    .colab-df-container {\n",
              "      display:flex;\n",
              "      flex-wrap:wrap;\n",
              "      gap: 12px;\n",
              "    }\n",
              "\n",
              "    .colab-df-convert {\n",
              "      background-color: #E8F0FE;\n",
              "      border: none;\n",
              "      border-radius: 50%;\n",
              "      cursor: pointer;\n",
              "      display: none;\n",
              "      fill: #1967D2;\n",
              "      height: 32px;\n",
              "      padding: 0 0 0 0;\n",
              "      width: 32px;\n",
              "    }\n",
              "\n",
              "    .colab-df-convert:hover {\n",
              "      background-color: #E2EBFA;\n",
              "      box-shadow: 0px 1px 2px rgba(60, 64, 67, 0.3), 0px 1px 3px 1px rgba(60, 64, 67, 0.15);\n",
              "      fill: #174EA6;\n",
              "    }\n",
              "\n",
              "    [theme=dark] .colab-df-convert {\n",
              "      background-color: #3B4455;\n",
              "      fill: #D2E3FC;\n",
              "    }\n",
              "\n",
              "    [theme=dark] .colab-df-convert:hover {\n",
              "      background-color: #434B5C;\n",
              "      box-shadow: 0px 1px 3px 1px rgba(0, 0, 0, 0.15);\n",
              "      filter: drop-shadow(0px 1px 2px rgba(0, 0, 0, 0.3));\n",
              "      fill: #FFFFFF;\n",
              "    }\n",
              "  </style>\n",
              "\n",
              "      <script>\n",
              "        const buttonEl =\n",
              "          document.querySelector('#df-f57eb97c-3830-4c48-a493-9e118d214fec button.colab-df-convert');\n",
              "        buttonEl.style.display =\n",
              "          google.colab.kernel.accessAllowed ? 'block' : 'none';\n",
              "\n",
              "        async function convertToInteractive(key) {\n",
              "          const element = document.querySelector('#df-f57eb97c-3830-4c48-a493-9e118d214fec');\n",
              "          const dataTable =\n",
              "            await google.colab.kernel.invokeFunction('convertToInteractive',\n",
              "                                                     [key], {});\n",
              "          if (!dataTable) return;\n",
              "\n",
              "          const docLinkHtml = 'Like what you see? Visit the ' +\n",
              "            '<a target=\"_blank\" href=https://colab.research.google.com/notebooks/data_table.ipynb>data table notebook</a>'\n",
              "            + ' to learn more about interactive tables.';\n",
              "          element.innerHTML = '';\n",
              "          dataTable['output_type'] = 'display_data';\n",
              "          await google.colab.output.renderOutput(dataTable, element);\n",
              "          const docLink = document.createElement('div');\n",
              "          docLink.innerHTML = docLinkHtml;\n",
              "          element.appendChild(docLink);\n",
              "        }\n",
              "      </script>\n",
              "    </div>\n",
              "  </div>\n",
              "  "
            ]
          },
          "metadata": {},
          "execution_count": 20
        }
      ],
      "source": [
        "df = df.dropna()\n",
        "df"
      ]
    },
    {
      "cell_type": "markdown",
      "source": [
        "**ANSWER:**\n",
        "First we have to make sure that we have imported pandas to our python enviornment and using `df = df.dropna()` will help remove all the rows which would have \"NaN\" or \"?\" values in their dataset. And df will simply print the df."
      ],
      "metadata": {
        "id": "p-nBSh6hNw3W"
      },
      "id": "p-nBSh6hNw3W"
    },
    {
      "cell_type": "code",
      "execution_count": null,
      "id": "7b8ecec2",
      "metadata": {
        "id": "7b8ecec2"
      },
      "outputs": [],
      "source": []
    }
  ],
  "metadata": {
    "kernelspec": {
      "display_name": "Python 3 (ipykernel)",
      "language": "python",
      "name": "python3"
    },
    "language_info": {
      "codemirror_mode": {
        "name": "ipython",
        "version": 3
      },
      "file_extension": ".py",
      "mimetype": "text/x-python",
      "name": "python",
      "nbconvert_exporter": "python",
      "pygments_lexer": "ipython3",
      "version": "3.9.7"
    },
    "colab": {
      "provenance": [],
      "include_colab_link": true
    }
  },
  "nbformat": 4,
  "nbformat_minor": 5
}