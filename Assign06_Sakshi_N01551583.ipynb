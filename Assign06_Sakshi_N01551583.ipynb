{
  "nbformat": 4,
  "nbformat_minor": 0,
  "metadata": {
    "colab": {
      "provenance": [],
      "authorship_tag": "ABX9TyPaSHJLn6FL9mViftSMBx+z",
      "include_colab_link": true
    },
    "kernelspec": {
      "name": "python3",
      "display_name": "Python 3"
    },
    "language_info": {
      "name": "python"
    }
  },
  "cells": [
    {
      "cell_type": "markdown",
      "metadata": {
        "id": "view-in-github",
        "colab_type": "text"
      },
      "source": [
        "<a href=\"https://colab.research.google.com/github/sakshipatel2702/Machine_Learning/blob/main/Assign06_Sakshi_N01551583.ipynb\" target=\"_parent\"><img src=\"https://colab.research.google.com/assets/colab-badge.svg\" alt=\"Open In Colab\"/></a>"
      ]
    },
    {
      "cell_type": "markdown",
      "source": [
        "# Assignmanet06_Sakshi_N01551583"
      ],
      "metadata": {
        "id": "8RWZgHXZ2SIB"
      }
    },
    {
      "cell_type": "markdown",
      "source": [
        "### In this analysis, we will be using the Logistic Regression algorithm to classify students based on whether they pass or fail, using the \"Student-Pass-Fail\" dataset. We will perform several steps including importing necessary libraries, loading the dataset, preprocessing the data, splitting the dataset into training and testing sets, fitting the logistic regression model, and evaluating the performance of the model using accuracy, precision, recall, and F1 score. We will also visualize the performance of the model using a confusion matrix."
      ],
      "metadata": {
        "id": "oBcuukUv2ayo"
      }
    },
    {
      "cell_type": "markdown",
      "source": [
        "## **Step 1 - Importing Libraries**"
      ],
      "metadata": {
        "id": "24oqYojS2k4w"
      }
    },
    {
      "cell_type": "code",
      "execution_count": null,
      "metadata": {
        "id": "DHte-pRol6N9"
      },
      "outputs": [],
      "source": [
        "import pandas as pd\n",
        "import numpy as np\n",
        "import matplotlib.pyplot as plt\n",
        "from matplotlib import style\n",
        "style.use('dark_background')\n",
        "from sklearn.preprocessing import StandardScaler\n",
        "from sklearn.model_selection import train_test_split"
      ]
    },
    {
      "cell_type": "markdown",
      "source": [
        "## **Step 2 - Loading the Dataset**"
      ],
      "metadata": {
        "id": "FXuUxts02vVC"
      }
    },
    {
      "cell_type": "code",
      "source": [
        "from google.colab import drive\n",
        "drive.mount('/content/drive')"
      ],
      "metadata": {
        "colab": {
          "base_uri": "https://localhost:8080/"
        },
        "id": "FLm378lamXeA",
        "outputId": "0f3ce3c3-e79f-4f25-ad37-82c6465db5f1"
      },
      "execution_count": null,
      "outputs": [
        {
          "output_type": "stream",
          "name": "stdout",
          "text": [
            "Mounted at /content/drive\n"
          ]
        }
      ]
    },
    {
      "cell_type": "code",
      "source": [
        "%cd /content/drive/MyDrive/Assign06"
      ],
      "metadata": {
        "colab": {
          "base_uri": "https://localhost:8080/"
        },
        "id": "8M8uq1i9msqZ",
        "outputId": "2949c0b9-24bc-403c-881c-21d11dcc336f"
      },
      "execution_count": null,
      "outputs": [
        {
          "output_type": "stream",
          "name": "stdout",
          "text": [
            "/content/drive/MyDrive/Assign06\n"
          ]
        }
      ]
    },
    {
      "cell_type": "code",
      "source": [
        "data = pd.read_csv('Student-Pass-Fail-Data.csv')"
      ],
      "metadata": {
        "id": "KsxcAdRDm2Uo"
      },
      "execution_count": null,
      "outputs": []
    },
    {
      "cell_type": "markdown",
      "source": [
        "## **Step 2 - Preprocessing the Data**"
      ],
      "metadata": {
        "id": "gkGtBfsj239p"
      }
    },
    {
      "cell_type": "code",
      "source": [
        "X = data[['Self_Study_Daily', 'Tution_Monthly']]  # predictor variables\n",
        "y = data['Pass_Or_Fail']  # target variable"
      ],
      "metadata": {
        "id": "dv6YgaoMuEdC"
      },
      "execution_count": null,
      "outputs": []
    },
    {
      "cell_type": "code",
      "source": [
        "scaler = StandardScaler()  # scale the predictor variables\n",
        "X = scaler.fit_transform(X)"
      ],
      "metadata": {
        "id": "yxYuAQDeubxV"
      },
      "execution_count": null,
      "outputs": []
    },
    {
      "cell_type": "markdown",
      "source": [
        "## **Step 3 - Splitting the Dataset into Training and Testing Sets**"
      ],
      "metadata": {
        "id": "T2rZYs673GnO"
      }
    },
    {
      "cell_type": "code",
      "source": [
        "X_train, X_test, y_train, y_test = train_test_split(X, y, test_size=0.3, random_state=42) "
      ],
      "metadata": {
        "id": "fENwdFclucHM"
      },
      "execution_count": null,
      "outputs": []
    },
    {
      "cell_type": "markdown",
      "source": [
        "We split the dataset into training and testing sets using the train_test_split function from scikit-learn. We use a test size of 30% and a random state of 42 for reproducibility."
      ],
      "metadata": {
        "id": "q3UU4BOP3Kjf"
      }
    },
    {
      "cell_type": "markdown",
      "source": [
        " ## **Step 4 - Fitting the Logistic Regression Model**"
      ],
      "metadata": {
        "id": "aoDWQGEnunRm"
      }
    },
    {
      "cell_type": "code",
      "source": [
        "from sklearn.linear_model import LogisticRegression\n",
        "\n",
        "clf = LogisticRegression(random_state=42)"
      ],
      "metadata": {
        "id": "14x5bi37ucTL"
      },
      "execution_count": null,
      "outputs": []
    },
    {
      "cell_type": "code",
      "source": [
        "clf.fit(X_train, y_train)"
      ],
      "metadata": {
        "colab": {
          "base_uri": "https://localhost:8080/",
          "height": 75
        },
        "id": "TDIzq8JtufD-",
        "outputId": "f8ca83e7-50c8-498c-9c59-1e309d5b22d4"
      },
      "execution_count": null,
      "outputs": [
        {
          "output_type": "execute_result",
          "data": {
            "text/plain": [
              "LogisticRegression(random_state=42)"
            ],
            "text/html": [
              "<style>#sk-container-id-1 {color: black;background-color: white;}#sk-container-id-1 pre{padding: 0;}#sk-container-id-1 div.sk-toggleable {background-color: white;}#sk-container-id-1 label.sk-toggleable__label {cursor: pointer;display: block;width: 100%;margin-bottom: 0;padding: 0.3em;box-sizing: border-box;text-align: center;}#sk-container-id-1 label.sk-toggleable__label-arrow:before {content: \"▸\";float: left;margin-right: 0.25em;color: #696969;}#sk-container-id-1 label.sk-toggleable__label-arrow:hover:before {color: black;}#sk-container-id-1 div.sk-estimator:hover label.sk-toggleable__label-arrow:before {color: black;}#sk-container-id-1 div.sk-toggleable__content {max-height: 0;max-width: 0;overflow: hidden;text-align: left;background-color: #f0f8ff;}#sk-container-id-1 div.sk-toggleable__content pre {margin: 0.2em;color: black;border-radius: 0.25em;background-color: #f0f8ff;}#sk-container-id-1 input.sk-toggleable__control:checked~div.sk-toggleable__content {max-height: 200px;max-width: 100%;overflow: auto;}#sk-container-id-1 input.sk-toggleable__control:checked~label.sk-toggleable__label-arrow:before {content: \"▾\";}#sk-container-id-1 div.sk-estimator input.sk-toggleable__control:checked~label.sk-toggleable__label {background-color: #d4ebff;}#sk-container-id-1 div.sk-label input.sk-toggleable__control:checked~label.sk-toggleable__label {background-color: #d4ebff;}#sk-container-id-1 input.sk-hidden--visually {border: 0;clip: rect(1px 1px 1px 1px);clip: rect(1px, 1px, 1px, 1px);height: 1px;margin: -1px;overflow: hidden;padding: 0;position: absolute;width: 1px;}#sk-container-id-1 div.sk-estimator {font-family: monospace;background-color: #f0f8ff;border: 1px dotted black;border-radius: 0.25em;box-sizing: border-box;margin-bottom: 0.5em;}#sk-container-id-1 div.sk-estimator:hover {background-color: #d4ebff;}#sk-container-id-1 div.sk-parallel-item::after {content: \"\";width: 100%;border-bottom: 1px solid gray;flex-grow: 1;}#sk-container-id-1 div.sk-label:hover label.sk-toggleable__label {background-color: #d4ebff;}#sk-container-id-1 div.sk-serial::before {content: \"\";position: absolute;border-left: 1px solid gray;box-sizing: border-box;top: 0;bottom: 0;left: 50%;z-index: 0;}#sk-container-id-1 div.sk-serial {display: flex;flex-direction: column;align-items: center;background-color: white;padding-right: 0.2em;padding-left: 0.2em;position: relative;}#sk-container-id-1 div.sk-item {position: relative;z-index: 1;}#sk-container-id-1 div.sk-parallel {display: flex;align-items: stretch;justify-content: center;background-color: white;position: relative;}#sk-container-id-1 div.sk-item::before, #sk-container-id-1 div.sk-parallel-item::before {content: \"\";position: absolute;border-left: 1px solid gray;box-sizing: border-box;top: 0;bottom: 0;left: 50%;z-index: -1;}#sk-container-id-1 div.sk-parallel-item {display: flex;flex-direction: column;z-index: 1;position: relative;background-color: white;}#sk-container-id-1 div.sk-parallel-item:first-child::after {align-self: flex-end;width: 50%;}#sk-container-id-1 div.sk-parallel-item:last-child::after {align-self: flex-start;width: 50%;}#sk-container-id-1 div.sk-parallel-item:only-child::after {width: 0;}#sk-container-id-1 div.sk-dashed-wrapped {border: 1px dashed gray;margin: 0 0.4em 0.5em 0.4em;box-sizing: border-box;padding-bottom: 0.4em;background-color: white;}#sk-container-id-1 div.sk-label label {font-family: monospace;font-weight: bold;display: inline-block;line-height: 1.2em;}#sk-container-id-1 div.sk-label-container {text-align: center;}#sk-container-id-1 div.sk-container {/* jupyter's `normalize.less` sets `[hidden] { display: none; }` but bootstrap.min.css set `[hidden] { display: none !important; }` so we also need the `!important` here to be able to override the default hidden behavior on the sphinx rendered scikit-learn.org. See: https://github.com/scikit-learn/scikit-learn/issues/21755 */display: inline-block !important;position: relative;}#sk-container-id-1 div.sk-text-repr-fallback {display: none;}</style><div id=\"sk-container-id-1\" class=\"sk-top-container\"><div class=\"sk-text-repr-fallback\"><pre>LogisticRegression(random_state=42)</pre><b>In a Jupyter environment, please rerun this cell to show the HTML representation or trust the notebook. <br />On GitHub, the HTML representation is unable to render, please try loading this page with nbviewer.org.</b></div><div class=\"sk-container\" hidden><div class=\"sk-item\"><div class=\"sk-estimator sk-toggleable\"><input class=\"sk-toggleable__control sk-hidden--visually\" id=\"sk-estimator-id-1\" type=\"checkbox\" checked><label for=\"sk-estimator-id-1\" class=\"sk-toggleable__label sk-toggleable__label-arrow\">LogisticRegression</label><div class=\"sk-toggleable__content\"><pre>LogisticRegression(random_state=42)</pre></div></div></div></div></div>"
            ]
          },
          "metadata": {},
          "execution_count": 12
        }
      ]
    },
    {
      "cell_type": "markdown",
      "source": [
        "## **Step 5 - Evaluate the classifier's performance**"
      ],
      "metadata": {
        "id": "dgDhZWtku92e"
      }
    },
    {
      "cell_type": "code",
      "source": [
        "from sklearn.metrics import accuracy_score, precision_score, recall_score, f1_score\n",
        "\n",
        "y_pred = clf.predict(X_test)\n",
        "\n",
        "accuracy = np.mean(y_pred == y_test) * 100\n",
        "\n",
        "precision = precision_score(y_test, y_pred)\n",
        "precision_mean = np.mean(precision) * 100\n",
        "\n",
        "recall = recall_score(y_test, y_pred)\n",
        "recall_mean = np.mean(recall) * 100\n",
        "\n",
        "f1 = f1_score(y_test, y_pred)\n",
        "f1_mean = np.mean(f1) * 100\n",
        "\n",
        "\n",
        "print(\"Accuracy : %2.2f\" % (accuracy))\n",
        "print(\"Precision: %2.2f\" % precision_mean)\n",
        "print(\"Recall:  %2.2f\" % recall_mean)\n",
        "print(\"F1 Score:  %2.2f\" % f1_mean)"
      ],
      "metadata": {
        "colab": {
          "base_uri": "https://localhost:8080/"
        },
        "id": "Kr1ptZt4u1RV",
        "outputId": "ef351503-495a-4b9e-c6bb-3ea427a2f982"
      },
      "execution_count": null,
      "outputs": [
        {
          "output_type": "stream",
          "name": "stdout",
          "text": [
            "Accuracy : 96.67\n",
            "Precision: 93.38\n",
            "Recall:  100.00\n",
            "F1 Score:  96.58\n"
          ]
        }
      ]
    },
    {
      "cell_type": "markdown",
      "source": [
        "We make predictions on the testing data and evaluate the performance of the model using accuracy, precision, recall, and F1 score."
      ],
      "metadata": {
        "id": "2NW6VdPT3wBU"
      }
    },
    {
      "cell_type": "markdown",
      "source": [
        "## **Step 6 - Visualizing the Model Performance using Confusion Matrix**"
      ],
      "metadata": {
        "id": "pGF1jT103ya1"
      }
    },
    {
      "cell_type": "code",
      "source": [
        "from sklearn.metrics import confusion_matrix\n",
        "conf_mat = confusion_matrix(y_true=y_test, y_pred=y_pred)\n",
        "print('Confusion matrix:\\n', conf_mat)"
      ],
      "metadata": {
        "id": "jTlwMlcTvEAm",
        "colab": {
          "base_uri": "https://localhost:8080/"
        },
        "outputId": "2716a336-a25b-4c26-9954-a85ce75915c3"
      },
      "execution_count": null,
      "outputs": [
        {
          "output_type": "stream",
          "name": "stdout",
          "text": [
            "Confusion matrix:\n",
            " [[149  10]\n",
            " [  0 141]]\n"
          ]
        }
      ]
    },
    {
      "cell_type": "code",
      "source": [
        "font = {\n",
        "    'weight' : 'bold',\n",
        "    'size'   : 15}\n",
        "plt.rc('font', **font)"
      ],
      "metadata": {
        "id": "MQrb-kfwvENF"
      },
      "execution_count": null,
      "outputs": []
    },
    {
      "cell_type": "code",
      "source": [
        "plt.figure(figsize = (6,6))\n",
        "import seaborn as sns\n",
        "sns.set(font_scale=1.4)\n",
        "sns.heatmap(conf_mat, annot=True, annot_kws={\"size\": 16}, cmap='Blues', fmt='g')\n",
        "plt.xlabel('Predicted Class')\n",
        "plt.ylabel('True Class')\n",
        "plt.show()"
      ],
      "metadata": {
        "id": "_Njx6bBZvETW",
        "colab": {
          "base_uri": "https://localhost:8080/",
          "height": 404
        },
        "outputId": "a5f54443-5b48-4d95-b040-407de9d2cb4c"
      },
      "execution_count": null,
      "outputs": [
        {
          "output_type": "display_data",
          "data": {
            "text/plain": [
              "<Figure size 432x432 with 2 Axes>"
            ],
            "image/png": "[encoded data removed]"
          },
          "metadata": {}
        }
      ]
    }
  ]
}