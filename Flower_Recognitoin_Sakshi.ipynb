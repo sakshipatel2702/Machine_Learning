{
  "nbformat": 4,
  "nbformat_minor": 0,
  "metadata": {
    "colab": {
      "provenance": [],
      "authorship_tag": "ABX9TyMA1YS/eb2CUnIX0kW9R3aL",
      "include_colab_link": true
    },
    "kernelspec": {
      "name": "python3",
      "display_name": "Python 3"
    },
    "language_info": {
      "name": "python"
    }
  },
  "cells": [
    {
      "cell_type": "markdown",
      "metadata": {
        "id": "view-in-github",
        "colab_type": "text"
      },
      "source": [
        "<a href=\"https://colab.research.google.com/github/sakshipatel2702/Machine_Learning/blob/main/Flower_Recognitoin_Sakshi.ipynb\" target=\"_parent\"><img src=\"https://colab.research.google.com/assets/colab-badge.svg\" alt=\"Open In Colab\"/></a>"
      ]
    },
    {
      "cell_type": "code",
      "execution_count": 1,
      "metadata": {
        "id": "AdvkVjdhw1cz"
      },
      "outputs": [],
      "source": [
        "import pandas as pd\n",
        "import numpy as np\n",
        "import tensorflow as tf\n",
        "from keras.preprocessing.image import ImageDataGenerator\n",
        "import matplotlib.pyplot as plt\n",
        "from matplotlib import style\n",
        "from tensorflow.keras.preprocessing.image import load_img\n",
        "from tensorflow.keras.preprocessing import image"
      ]
    },
    {
      "cell_type": "code",
      "source": [
        "from google.colab import drive\n",
        "drive.mount('/content/drive')"
      ],
      "metadata": {
        "colab": {
          "base_uri": "https://localhost:8080/"
        },
        "id": "oEZVd6pe2NHm",
        "outputId": "6e84fb63-747c-4550-a293-f1d7373194e9"
      },
      "execution_count": 2,
      "outputs": [
        {
          "output_type": "stream",
          "name": "stdout",
          "text": [
            "Mounted at /content/drive\n"
          ]
        }
      ]
    },
    {
      "cell_type": "code",
      "source": [
        "%cd /content/drive/MyDrive/Flower_Recognition_Sakshi_N01551583"
      ],
      "metadata": {
        "colab": {
          "base_uri": "https://localhost:8080/"
        },
        "id": "DZ0VGXi22mK3",
        "outputId": "c28323f3-eb97-4d2a-c50f-3ea9112eb42f"
      },
      "execution_count": 3,
      "outputs": [
        {
          "output_type": "stream",
          "name": "stdout",
          "text": [
            "/content/drive/MyDrive/Flower_Recognition_Sakshi_N01551583\n"
          ]
        }
      ]
    },
    {
      "cell_type": "code",
      "source": [
        "train_flowerdata = ImageDataGenerator(\n",
        "        rescale=1./255, \n",
        "        shear_range=0.2,\n",
        "        zoom_range=0.2,\n",
        "        horizontal_flip=True)\n",
        "flower_trainingset = train_flowerdata.flow_from_directory(\n",
        "        'flower_trainingset',\n",
        "        target_size=(64, 64),\n",
        "        batch_size=32,\n",
        "        class_mode='categorical')"
      ],
      "metadata": {
        "colab": {
          "base_uri": "https://localhost:8080/"
        },
        "id": "wir9VjEN5Zcx",
        "outputId": "01bd5c17-aa1d-4844-e4f6-2541849ae058"
      },
      "execution_count": 4,
      "outputs": [
        {
          "output_type": "stream",
          "name": "stdout",
          "text": [
            "Found 3587 images belonging to 5 classes.\n"
          ]
        }
      ]
    },
    {
      "cell_type": "code",
      "source": [
        "test_flowerdata = ImageDataGenerator(\n",
        "        rescale=1./255,\n",
        "        shear_range=0.2,\n",
        "        zoom_range=0.2,\n",
        "        horizontal_flip=True)\n",
        "flower_testset = test_flowerdata.flow_from_directory(\n",
        "        'flower_testset',\n",
        "        target_size=(64, 64),\n",
        "        batch_size=32,\n",
        "        class_mode='categorical')"
      ],
      "metadata": {
        "colab": {
          "base_uri": "https://localhost:8080/"
        },
        "id": "BBe1jWJgUW-A",
        "outputId": "06c1ddd5-be65-4425-d629-85c29bc59542"
      },
      "execution_count": 5,
      "outputs": [
        {
          "output_type": "stream",
          "name": "stdout",
          "text": [
            "Found 730 images belonging to 5 classes.\n"
          ]
        }
      ]
    },
    {
      "cell_type": "markdown",
      "source": [
        "### Building Model with CNN"
      ],
      "metadata": {
        "id": "g4zmzzMNXeFO"
      }
    },
    {
      "cell_type": "code",
      "source": [
        "flower_cnn = tf.keras.models.Sequential()"
      ],
      "metadata": {
        "id": "74wQ5MsCXkSw"
      },
      "execution_count": 6,
      "outputs": []
    },
    {
      "cell_type": "markdown",
      "source": [
        "### Building Convolution Layer for Flower Images"
      ],
      "metadata": {
        "id": "GETzWCYgX8gc"
      }
    },
    {
      "cell_type": "code",
      "source": [
        "flower_cnn.add(tf.keras.layers.Conv2D(filters=64 , kernel_size=3 , activation='relu' , input_shape=[64,64,3]))\n",
        "flower_cnn.add(tf.keras.layers.MaxPool2D(pool_size=2,strides=2))"
      ],
      "metadata": {
        "id": "FdHDads9YBhn"
      },
      "execution_count": 7,
      "outputs": []
    },
    {
      "cell_type": "markdown",
      "source": [
        "#### Note: To make your cnn model more accurate for the flower recognition run the above code atleast twice to give 2 layers."
      ],
      "metadata": {
        "id": "4jF_RDB7aUmF"
      }
    },
    {
      "cell_type": "code",
      "source": [
        "flower_cnn.add(tf.keras.layers.Conv2D(filters=64 , kernel_size=3 , activation='relu' , input_shape=[64,64,3]))\n",
        "flower_cnn.add(tf.keras.layers.MaxPool2D(pool_size=2,strides=2))"
      ],
      "metadata": {
        "id": "wDEbgDxPY08g"
      },
      "execution_count": 8,
      "outputs": []
    },
    {
      "cell_type": "code",
      "source": [
        "flower_cnn.add(tf.keras.layers.Conv2D(filters=64 , kernel_size=3 , activation='relu' , input_shape=[64,64,3]))\n",
        "flower_cnn.add(tf.keras.layers.MaxPool2D(pool_size=2,strides=2))"
      ],
      "metadata": {
        "id": "XAZyinUe3dWK"
      },
      "execution_count": 9,
      "outputs": []
    },
    {
      "cell_type": "code",
      "source": [
        "flower_cnn.add(tf.keras.layers.Dropout(0.5))"
      ],
      "metadata": {
        "id": "uPtgqP4obEW1"
      },
      "execution_count": 10,
      "outputs": []
    },
    {
      "cell_type": "code",
      "source": [
        "flower_cnn.add(tf.keras.layers.Flatten())"
      ],
      "metadata": {
        "id": "d4G8SJTUbVW5"
      },
      "execution_count": 11,
      "outputs": []
    },
    {
      "cell_type": "code",
      "source": [
        "flower_cnn.add(tf.keras.layers.Dense(units=128, activation='relu'))"
      ],
      "metadata": {
        "id": "zSyn2rGrbk-v"
      },
      "execution_count": 12,
      "outputs": []
    },
    {
      "cell_type": "markdown",
      "source": [
        "#### Note: The below line of code is for output layer and we are using units = 5 because we have 5 category that is Tulips, Rose, Dandelions, Daisy and Sunflower. And we have used activation='softmax' "
      ],
      "metadata": {
        "id": "RKm_97cYcVx2"
      }
    },
    {
      "cell_type": "code",
      "source": [
        "flower_cnn.add(tf.keras.layers.Dense(units=5 , activation='softmax'))"
      ],
      "metadata": {
        "id": "zO0f2Pwnb-7T"
      },
      "execution_count": 13,
      "outputs": []
    },
    {
      "cell_type": "code",
      "source": [
        "flower_cnn.compile(optimizer = 'rmsprop' , loss = 'categorical_crossentropy' , metrics = ['accuracy'])"
      ],
      "metadata": {
        "id": "eylL9STRcob1"
      },
      "execution_count": 14,
      "outputs": []
    },
    {
      "cell_type": "code",
      "source": [
        "history = flower_cnn.fit(x = flower_trainingset , validation_data = flower_testset , epochs = 30)"
      ],
      "metadata": {
        "colab": {
          "base_uri": "https://localhost:8080/"
        },
        "id": "FE8p1BFYdvYq",
        "outputId": "92f8bbb3-712a-433e-ee99-9022b64c5aba"
      },
      "execution_count": 15,
      "outputs": [
        {
          "output_type": "stream",
          "name": "stdout",
          "text": [
            "Epoch 1/30\n",
            "113/113 [==============================] - 745s 7s/step - loss: 1.3709 - accuracy: 0.3948 - val_loss: 1.0974 - val_accuracy: 0.5603\n",
            "Epoch 2/30\n",
            "113/113 [==============================] - 71s 631ms/step - loss: 1.1453 - accuracy: 0.5375 - val_loss: 1.0683 - val_accuracy: 0.5849\n",
            "Epoch 3/30\n",
            "113/113 [==============================] - 71s 625ms/step - loss: 1.0257 - accuracy: 0.5935 - val_loss: 0.9604 - val_accuracy: 0.6644\n",
            "Epoch 4/30\n",
            "113/113 [==============================] - 73s 644ms/step - loss: 0.9540 - accuracy: 0.6301 - val_loss: 0.9614 - val_accuracy: 0.6137\n",
            "Epoch 5/30\n",
            "113/113 [==============================] - 73s 648ms/step - loss: 0.8943 - accuracy: 0.6510 - val_loss: 0.8629 - val_accuracy: 0.6712\n",
            "Epoch 6/30\n",
            "113/113 [==============================] - 67s 591ms/step - loss: 0.8653 - accuracy: 0.6671 - val_loss: 0.8155 - val_accuracy: 0.6890\n",
            "Epoch 7/30\n",
            "113/113 [==============================] - 74s 647ms/step - loss: 0.8259 - accuracy: 0.6780 - val_loss: 0.8926 - val_accuracy: 0.6534\n",
            "Epoch 8/30\n",
            "113/113 [==============================] - 71s 631ms/step - loss: 0.7818 - accuracy: 0.6984 - val_loss: 0.8971 - val_accuracy: 0.6685\n",
            "Epoch 9/30\n",
            "113/113 [==============================] - 71s 627ms/step - loss: 0.7638 - accuracy: 0.7076 - val_loss: 0.8143 - val_accuracy: 0.6781\n",
            "Epoch 10/30\n",
            "113/113 [==============================] - 72s 629ms/step - loss: 0.7459 - accuracy: 0.7201 - val_loss: 0.8759 - val_accuracy: 0.6904\n",
            "Epoch 11/30\n",
            "113/113 [==============================] - 71s 628ms/step - loss: 0.7147 - accuracy: 0.7246 - val_loss: 0.7628 - val_accuracy: 0.7027\n",
            "Epoch 12/30\n",
            "113/113 [==============================] - 71s 629ms/step - loss: 0.7204 - accuracy: 0.7243 - val_loss: 0.7582 - val_accuracy: 0.7151\n",
            "Epoch 13/30\n",
            "113/113 [==============================] - 67s 596ms/step - loss: 0.6959 - accuracy: 0.7349 - val_loss: 0.7274 - val_accuracy: 0.7397\n",
            "Epoch 14/30\n",
            "113/113 [==============================] - 74s 658ms/step - loss: 0.6641 - accuracy: 0.7541 - val_loss: 1.0259 - val_accuracy: 0.6178\n",
            "Epoch 15/30\n",
            "113/113 [==============================] - 71s 630ms/step - loss: 0.6450 - accuracy: 0.7516 - val_loss: 0.7484 - val_accuracy: 0.7370\n",
            "Epoch 16/30\n",
            "113/113 [==============================] - 72s 631ms/step - loss: 0.6208 - accuracy: 0.7644 - val_loss: 0.7749 - val_accuracy: 0.7219\n",
            "Epoch 17/30\n",
            "113/113 [==============================] - 71s 629ms/step - loss: 0.6132 - accuracy: 0.7731 - val_loss: 0.9357 - val_accuracy: 0.6753\n",
            "Epoch 18/30\n",
            "113/113 [==============================] - 71s 627ms/step - loss: 0.6038 - accuracy: 0.7736 - val_loss: 0.8878 - val_accuracy: 0.6918\n",
            "Epoch 19/30\n",
            "113/113 [==============================] - 67s 590ms/step - loss: 0.5925 - accuracy: 0.7678 - val_loss: 0.8039 - val_accuracy: 0.7205\n",
            "Epoch 20/30\n",
            "113/113 [==============================] - 71s 626ms/step - loss: 0.5793 - accuracy: 0.7859 - val_loss: 0.7500 - val_accuracy: 0.7219\n",
            "Epoch 21/30\n",
            "113/113 [==============================] - 71s 630ms/step - loss: 0.5590 - accuracy: 0.7904 - val_loss: 0.8201 - val_accuracy: 0.6945\n",
            "Epoch 22/30\n",
            "113/113 [==============================] - 68s 598ms/step - loss: 0.5405 - accuracy: 0.7973 - val_loss: 0.7830 - val_accuracy: 0.7260\n",
            "Epoch 23/30\n",
            "113/113 [==============================] - 69s 613ms/step - loss: 0.5558 - accuracy: 0.7959 - val_loss: 0.7780 - val_accuracy: 0.7164\n",
            "Epoch 24/30\n",
            "113/113 [==============================] - 73s 652ms/step - loss: 0.5142 - accuracy: 0.8071 - val_loss: 0.8937 - val_accuracy: 0.6918\n",
            "Epoch 25/30\n",
            "113/113 [==============================] - 71s 625ms/step - loss: 0.5092 - accuracy: 0.8107 - val_loss: 0.8887 - val_accuracy: 0.7110\n",
            "Epoch 26/30\n",
            "113/113 [==============================] - 70s 615ms/step - loss: 0.5041 - accuracy: 0.8085 - val_loss: 0.8731 - val_accuracy: 0.7233\n",
            "Epoch 27/30\n",
            "113/113 [==============================] - 71s 629ms/step - loss: 0.5054 - accuracy: 0.8085 - val_loss: 0.7444 - val_accuracy: 0.7438\n",
            "Epoch 28/30\n",
            "113/113 [==============================] - 72s 633ms/step - loss: 0.4902 - accuracy: 0.8154 - val_loss: 0.8590 - val_accuracy: 0.7260\n",
            "Epoch 29/30\n",
            "113/113 [==============================] - 71s 630ms/step - loss: 0.4713 - accuracy: 0.8291 - val_loss: 0.9410 - val_accuracy: 0.6945\n",
            "Epoch 30/30\n",
            "113/113 [==============================] - 71s 629ms/step - loss: 0.4706 - accuracy: 0.8283 - val_loss: 0.8650 - val_accuracy: 0.6986\n"
          ]
        }
      ]
    },
    {
      "cell_type": "code",
      "source": [
        "plt.plot(history.history['loss'], label='train_loss')\n",
        "plt.plot(history.history['val_loss'], label='val_loss')\n",
        "plt.plot(history.history['accuracy'], label='train_acc')\n",
        "plt.plot(history.history['val_accuracy'], label='val_acc')\n",
        "plt.xlabel('Epoch')\n",
        "plt.ylabel('Loss/Accuracy')\n",
        "plt.title(\"Training Loss And Accuracy\")\n",
        "plt.legend()\n",
        "plt.show()"
      ],
      "metadata": {
        "colab": {
          "base_uri": "https://localhost:8080/",
          "height": 295
        },
        "id": "mfQbUdk7DsTi",
        "outputId": "53b26e5c-918e-4e71-ba8a-5d3f252e1075"
      },
      "execution_count": 20,
      "outputs": [
        {
          "output_type": "display_data",
          "data": {
            "text/plain": [
              "<Figure size 432x288 with 1 Axes>"
            ],
            "image/png": "[encoded data removed]"
          },
          "metadata": {
            "needs_background": "light"
          }
        }
      ]
    },
    {
      "cell_type": "code",
      "source": [
        "test_flowerimg = load_img('/content/drive/MyDrive/Flower_Recognition_Sakshi_N01551583/flower_prediction/image24.jpg',target_size=(64,64))\n",
        "test_flowerimg = image.img_to_array(test_flowerimg)\n",
        "test_flowerimg = np.expand_dims(test_flowerimg,axis=0)\n",
        "flower = flower_cnn.predict(test_flowerimg)\n",
        "flower_trainingset.class_indices"
      ],
      "metadata": {
        "colab": {
          "base_uri": "https://localhost:8080/"
        },
        "id": "AO1vj0Chr7f2",
        "outputId": "53d546b8-f9dc-4a04-9646-b73dccfd5539"
      },
      "execution_count": 21,
      "outputs": [
        {
          "output_type": "stream",
          "name": "stdout",
          "text": [
            "1/1 [==============================] - 0s 27ms/step\n"
          ]
        },
        {
          "output_type": "execute_result",
          "data": {
            "text/plain": [
              "{'daisy': 0, 'dandelion': 1, 'rose': 2, 'sunflower': 3, 'tulip': 4}"
            ]
          },
          "metadata": {},
          "execution_count": 21
        }
      ]
    },
    {
      "cell_type": "code",
      "source": [
        "print(flower)"
      ],
      "metadata": {
        "colab": {
          "base_uri": "https://localhost:8080/"
        },
        "id": "kmVapmevveOO",
        "outputId": "bb05cfc3-21c0-4fb2-f93c-fde3a308fc17"
      },
      "execution_count": 22,
      "outputs": [
        {
          "output_type": "stream",
          "name": "stdout",
          "text": [
            "[[0. 0. 0. 1. 0.]]\n"
          ]
        }
      ]
    },
    {
      "cell_type": "code",
      "source": [
        "if flower[0][0]==1:\n",
        "    print('The flower detected is Daisy!')\n",
        "elif flower[0][1]==1:\n",
        "    print('The flower detected is Dandelion!')\n",
        "elif flower[0][2]==1:\n",
        "    print('The flower detected is Rose!')\n",
        "elif flower[0][3]==1:\n",
        "    print('The flower detected is Sunflower!')\n",
        "elif flower[0][4]==1:\n",
        "    print(\"The flower detected is Tulip!\")"
      ],
      "metadata": {
        "colab": {
          "base_uri": "https://localhost:8080/"
        },
        "id": "gpG0ZAKGznu4",
        "outputId": "c647ec81-8731-4b2c-d579-c2b02d8a800e"
      },
      "execution_count": 19,
      "outputs": [
        {
          "output_type": "stream",
          "name": "stdout",
          "text": [
            "The flower detected is Sunflower!\n"
          ]
        }
      ]
    }
  ]
}